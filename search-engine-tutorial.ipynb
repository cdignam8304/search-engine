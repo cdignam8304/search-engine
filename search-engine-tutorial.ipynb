{
 "cells": [
  {
   "cell_type": "markdown",
   "metadata": {},
   "source": [
    "# <center>Build a search engine from scratch</center>\n",
    "---"
   ]
  },
  {
   "cell_type": "code",
   "execution_count": null,
   "metadata": {
    "collapsed": false
   },
   "outputs": [],
   "source": [
    "# Increase notebook cell width\n",
    "from IPython.core.display import display, HTML\n",
    "display(HTML(\"<style>.container { width:90% !important; }</style>\"))"
   ]
  },
  {
   "cell_type": "markdown",
   "metadata": {},
   "source": [
    "The link below is to a search engine tutorial that uses elasticsearch.\n",
    "- https://www.analyticbridge.datasciencecentral.com/profiles/blogs/how-to-build-a-search-engine-part-1\n",
    "\n",
    "Unfortunately, pythonanywhere does not support elasticsearch, so we will use the Python search engine library **Whoosh** instead."
   ]
  },
  {
   "cell_type": "markdown",
   "metadata": {},
   "source": [
    "### Objective"
   ]
  },
  {
   "cell_type": "markdown",
   "metadata": {},
   "source": [
    "Attempt to build a search engine that incorporates the following features:\n",
    "- Fuzzy search\n",
    "- Subset pattern matching\n",
    "- Auto-complete suggestions\n",
    "- Scoring algorithm\n",
    "- Sorting and filtering the results"
   ]
  },
  {
   "cell_type": "markdown",
   "metadata": {},
   "source": [
    "### Libraries"
   ]
  },
  {
   "cell_type": "code",
   "execution_count": 1,
   "metadata": {
    "collapsed": true
   },
   "outputs": [],
   "source": [
    "from whoosh.index import create_in\n",
    "from whoosh.fields import *\n",
    "from whoosh.qparser import QueryParser"
   ]
  },
  {
   "cell_type": "markdown",
   "metadata": {},
   "source": [
    "### Hello World search engine"
   ]
  },
  {
   "cell_type": "code",
   "execution_count": 2,
   "metadata": {
    "collapsed": false
   },
   "outputs": [],
   "source": [
    "! rm -rf indexdir # remove the old indexdir that contains the documents"
   ]
  },
  {
   "cell_type": "code",
   "execution_count": 3,
   "metadata": {
    "collapsed": false
   },
   "outputs": [],
   "source": [
    "! mkdir indexdir # create a new indexdir folder to store the documents"
   ]
  },
  {
   "cell_type": "code",
   "execution_count": 4,
   "metadata": {
    "collapsed": false
   },
   "outputs": [],
   "source": [
    "# Setup schema and writer object for creating documents\n",
    "schema = Schema(title=TEXT(stored=True), path=ID(stored=True), content=TEXT)\n",
    "ix = create_in(\"indexdir\", schema) # Need to mkdir to create folder indexdir\n",
    "writer = ix.writer()"
   ]
  },
  {
   "cell_type": "code",
   "execution_count": 5,
   "metadata": {
    "collapsed": false
   },
   "outputs": [],
   "source": [
    "# Create and commit (save to disk) some documents\n",
    "writer.add_document(title=u\"First document\", path=u\"/a\",\n",
    "                   content=u\"This is the first document we've added!\")\n",
    "writer.add_document(title=u\"Second document\", path=u\"/b\",\n",
    "                   content=u\"This is the second document and it is even more interesting!\")\n",
    "writer.commit() # save documents to disk"
   ]
  },
  {
   "cell_type": "code",
   "execution_count": 10,
   "metadata": {
    "collapsed": false
   },
   "outputs": [
    {
     "name": "stdout",
     "output_type": "stream",
     "text": [
      "<Hit {'title': 'First document', 'path': '/a'}>\n",
      "<Hit {'title': 'Second document', 'path': '/b'}>\n"
     ]
    }
   ],
   "source": [
    "# Create query engine, execute query and return results.\n",
    "# Here we are searching the document content, then returning the document title.\n",
    "with ix.searcher() as searcher:\n",
    "    query = QueryParser(\"content\", ix.schema).parse(\"document\")\n",
    "    results = searcher.search(query)\n",
    "    for r in results:\n",
    "        print(r)"
   ]
  },
  {
   "cell_type": "markdown",
   "metadata": {
    "collapsed": true
   },
   "source": [
    "NB: At some point stopwords are being removed, so searching for the word \"this\" returns 0 results."
   ]
  },
  {
   "cell_type": "code",
   "execution_count": 14,
   "metadata": {
    "collapsed": false
   },
   "outputs": [
    {
     "name": "stdout",
     "output_type": "stream",
     "text": [
      "<Hit {'title': 'Second document', 'path': '/b'}>\n"
     ]
    }
   ],
   "source": [
    "# Now, we'll search the document titles.\n",
    "# This also returns the document title.\n",
    "with ix.searcher() as searcher:\n",
    "    query = QueryParser(\"title\", ix.schema).parse(\"second\")\n",
    "    results = searcher.search(query)\n",
    "    for r in results:\n",
    "        print(r)"
   ]
  },
  {
   "cell_type": "code",
   "execution_count": null,
   "metadata": {
    "collapsed": true
   },
   "outputs": [],
   "source": []
  }
 ],
 "metadata": {
  "kernelspec": {
   "display_name": "Python 3.5",
   "language": "python",
   "name": "python3.5"
  },
  "language_info": {
   "codemirror_mode": {
    "name": "ipython",
    "version": 3
   },
   "file_extension": ".py",
   "mimetype": "text/x-python",
   "name": "python",
   "nbconvert_exporter": "python",
   "pygments_lexer": "ipython3",
   "version": "3.5.2"
  }
 },
 "nbformat": 4,
 "nbformat_minor": 0
}
